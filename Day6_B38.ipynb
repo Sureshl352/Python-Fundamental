{
 "cells": [
  {
   "cell_type": "code",
   "execution_count": 2,
   "metadata": {},
   "outputs": [],
   "source": [
    "students = ['Suresh', 'Mala', 'Mani', 'Karthi', 'Devi', 'Muthu']"
   ]
  },
  {
   "cell_type": "code",
   "execution_count": 3,
   "metadata": {},
   "outputs": [
    {
     "name": "stdout",
     "output_type": "stream",
     "text": [
      "['Suresh', 'Mala', 'Mani', 'Karthi', 'Devi', 'Muthu']\n"
     ]
    }
   ],
   "source": [
    "print(students)"
   ]
  },
  {
   "cell_type": "code",
   "execution_count": 4,
   "metadata": {},
   "outputs": [
    {
     "data": {
      "text/plain": [
       "list"
      ]
     },
     "execution_count": 4,
     "metadata": {},
     "output_type": "execute_result"
    }
   ],
   "source": [
    "type(students)"
   ]
  },
  {
   "cell_type": "code",
   "execution_count": 6,
   "metadata": {},
   "outputs": [
    {
     "name": "stdout",
     "output_type": "stream",
     "text": [
      "Good work, Mala\n"
     ]
    }
   ],
   "source": [
    "print(f\"Good work, {students[1].title()}\")"
   ]
  },
  {
   "cell_type": "code",
   "execution_count": 11,
   "metadata": {},
   "outputs": [
    {
     "name": "stdout",
     "output_type": "stream",
     "text": [
      "Suresh\n",
      "Mala\n",
      "Mani\n",
      "Karthi\n",
      "Devi\n",
      "Muthu\n"
     ]
    }
   ],
   "source": [
    "for x in students:\n",
    "    print(x)\n",
    "    "
   ]
  },
  {
   "cell_type": "code",
   "execution_count": 14,
   "metadata": {},
   "outputs": [
    {
     "name": "stdout",
     "output_type": "stream",
     "text": [
      "Good Work,Muthu\n"
     ]
    }
   ],
   "source": [
    "print(f\"Good Work,{x.title()}\")"
   ]
  },
  {
   "cell_type": "code",
   "execution_count": 16,
   "metadata": {},
   "outputs": [
    {
     "name": "stdout",
     "output_type": "stream",
     "text": [
      "Good Work, Suresh\n",
      "Good Work, Mala\n",
      "Good Work, Mani\n",
      "Good Work, Karthi\n",
      "Good Work, Devi\n",
      "Good Work, Muthu\n"
     ]
    }
   ],
   "source": [
    "for x in students:\n",
    "    print(f\"Good Work, {x.title()}\")\n",
    "    "
   ]
  },
  {
   "cell_type": "code",
   "execution_count": 17,
   "metadata": {},
   "outputs": [
    {
     "name": "stdout",
     "output_type": "stream",
     "text": [
      "Good Work, Suresh\n",
      "Keep it up, Suresh.\n",
      "\n",
      "Good Work, Mala\n",
      "Keep it up, Mala.\n",
      "\n",
      "Good Work, Mani\n",
      "Keep it up, Mani.\n",
      "\n",
      "Good Work, Karthi\n",
      "Keep it up, Karthi.\n",
      "\n",
      "Good Work, Devi\n",
      "Keep it up, Devi.\n",
      "\n",
      "Good Work, Muthu\n",
      "Keep it up, Muthu.\n",
      "\n"
     ]
    }
   ],
   "source": [
    "for x in students:\n",
    "    print(f\"Good Work, {x.title()}\")\n",
    "    print(f\"Keep it up, {x.title()}.\\n\")\n",
    "    "
   ]
  },
  {
   "cell_type": "code",
   "execution_count": 18,
   "metadata": {},
   "outputs": [
    {
     "name": "stdout",
     "output_type": "stream",
     "text": [
      "Good Work, Suresh\n",
      "Keep it up, Suresh.\n",
      "\n",
      "Good Work, Mala\n",
      "Keep it up, Mala.\n",
      "\n",
      "Good Work, Mani\n",
      "Keep it up, Mani.\n",
      "\n",
      "Good Work, Karthi\n",
      "Keep it up, Karthi.\n",
      "\n",
      "Good Work, Devi\n",
      "Keep it up, Devi.\n",
      "\n",
      "Good Work, Muthu\n",
      "Keep it up, Muthu.\n",
      "\n",
      "Thank you\n"
     ]
    }
   ],
   "source": [
    "for x in students:\n",
    "    print(f\"Good Work, {x.title()}\")\n",
    "    print(f\"Keep it up, {x.title()}.\\n\")\n",
    "    \n",
    "print(f\"Thank you\")\n",
    "    "
   ]
  },
  {
   "cell_type": "code",
   "execution_count": null,
   "metadata": {},
   "outputs": [],
   "source": []
  },
  {
   "cell_type": "code",
   "execution_count": null,
   "metadata": {},
   "outputs": [],
   "source": []
  }
 ],
 "metadata": {
  "kernelspec": {
   "display_name": "Python 3",
   "language": "python",
   "name": "python3"
  },
  "language_info": {
   "codemirror_mode": {
    "name": "ipython",
    "version": 3
   },
   "file_extension": ".py",
   "mimetype": "text/x-python",
   "name": "python",
   "nbconvert_exporter": "python",
   "pygments_lexer": "ipython3",
   "version": "3.8.5"
  }
 },
 "nbformat": 4,
 "nbformat_minor": 4
}
